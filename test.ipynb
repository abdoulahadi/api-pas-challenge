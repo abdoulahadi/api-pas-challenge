{
 "cells": [
  {
   "cell_type": "code",
   "execution_count": 7,
   "metadata": {},
   "outputs": [],
   "source": [
    "import re"
   ]
  },
  {
   "cell_type": "code",
   "execution_count": 4,
   "metadata": {},
   "outputs": [],
   "source": [
    "text = \"Ceci est un text à titre d'exemple pour essayer de donner la position de chaque mot du text\""
   ]
  },
  {
   "cell_type": "code",
   "execution_count": 5,
   "metadata": {},
   "outputs": [
    {
     "data": {
      "text/plain": [
       "\"Ceci est un text à titre d'exemple pour essayer de donner la position de chaque mot du text\""
      ]
     },
     "execution_count": 5,
     "metadata": {},
     "output_type": "execute_result"
    }
   ],
   "source": [
    "text"
   ]
  },
  {
   "cell_type": "code",
   "execution_count": 13,
   "metadata": {},
   "outputs": [
    {
     "name": "stdout",
     "output_type": "stream",
     "text": [
      "Ceci\n",
      "est\n",
      "un\n",
      "text\n",
      "à\n",
      "titre\n",
      "d\n",
      "'\n",
      "exemple\n",
      "pour\n",
      "essayer\n",
      "de\n",
      "donner\n",
      "la\n",
      "position\n",
      "de\n",
      "chaque\n",
      "mot\n",
      "du\n",
      "text\n"
     ]
    }
   ],
   "source": [
    "for mot in re.findall(r'\\b\\w+\\b|[.,!?;:\\']', text):\n",
    "    print(mot)"
   ]
  },
  {
   "cell_type": "code",
   "execution_count": 24,
   "metadata": {},
   "outputs": [],
   "source": [
    "import re\n",
    "\n",
    "def position_mots(texte):\n",
    "    # Utilisez re.findall pour trouver les mots et la ponctuation dans le texte.\n",
    "    mots = re.findall(r'\\b\\w+\\b|[.,!?;:\\']', texte)\n",
    "\n",
    "    # Initialisez un dictionnaire pour stocker les informations sur les mots.\n",
    "    positions = {}\n",
    "\n",
    "    # Initialisez une variable pour suivre la position actuelle dans le texte.\n",
    "    position_actuelle = 0\n",
    "\n",
    "    for mot in mots:\n",
    "        # Recherchez l'index de début du mot en utilisant find.\n",
    "        debut = texte.find(mot, position_actuelle)\n",
    "\n",
    "        # Mettez à jour la position actuelle pour éviter de répéter la recherche.\n",
    "        position_actuelle = debut + len(mot)\n",
    "\n",
    "        # Ajoutez ces informations au dictionnaire.\n",
    "        positions[mot] = (debut, position_actuelle)\n",
    "\n",
    "    return positions\n",
    "\n",
    "\n",
    "# Appelez la fonction avec le texte d'exemple\n",
    "resultat = position_mots(text)"
   ]
  },
  {
   "cell_type": "code",
   "execution_count": 25,
   "metadata": {},
   "outputs": [
    {
     "data": {
      "text/plain": [
       "{'Ceci': (0, 4),\n",
       " 'est': (5, 8),\n",
       " 'un': (9, 11),\n",
       " 'text': (87, 91),\n",
       " 'à': (17, 18),\n",
       " 'titre': (19, 24),\n",
       " 'd': (25, 26),\n",
       " \"'\": (26, 27),\n",
       " 'exemple': (27, 34),\n",
       " 'pour': (35, 39),\n",
       " 'essayer': (40, 47),\n",
       " 'de': (70, 72),\n",
       " 'donner': (51, 57),\n",
       " 'la': (58, 60),\n",
       " 'position': (61, 69),\n",
       " 'chaque': (73, 79),\n",
       " 'mot': (80, 83),\n",
       " 'du': (84, 86)}"
      ]
     },
     "execution_count": 25,
     "metadata": {},
     "output_type": "execute_result"
    }
   ],
   "source": [
    "resultat"
   ]
  },
  {
   "cell_type": "code",
   "execution_count": null,
   "metadata": {},
   "outputs": [],
   "source": []
  }
 ],
 "metadata": {
  "kernelspec": {
   "display_name": "Python 3",
   "language": "python",
   "name": "python3"
  },
  "language_info": {
   "codemirror_mode": {
    "name": "ipython",
    "version": 3
   },
   "file_extension": ".py",
   "mimetype": "text/x-python",
   "name": "python",
   "nbconvert_exporter": "python",
   "pygments_lexer": "ipython3",
   "version": "3.11.5"
  }
 },
 "nbformat": 4,
 "nbformat_minor": 2
}
